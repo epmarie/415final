{
 "cells": [
  {
   "cell_type": "markdown",
   "metadata": {},
   "source": [
    "All the packages that will be used on this dataset are imported."
   ]
  },
  {
   "cell_type": "code",
   "execution_count": 83,
   "metadata": {},
   "outputs": [],
   "source": [
    "import pandas as pd\n",
    "import numpy as np\n",
    "import sklearn as skl\n",
    "import matplotlib as mpl\n",
    "import matplotlib.pyplot as plt\n",
    "import scipy as sp\n",
    "import seaborn as sns\n",
    "from sklearn.linear_model import Lasso\n",
    "from sklearn.model_selection import train_test_split, cross_val_predict\n",
    "from sklearn import svm\n",
    "from sklearn.ensemble import RandomForestClassifier\n",
    "from sklearn.datasets import make_classification\n",
    "from sklearn.ensemble import RandomForestRegressor\n",
    "from sklearn import preprocessing\n",
    "import random\n",
    "import datetime"
   ]
  },
  {
   "cell_type": "code",
   "execution_count": 84,
   "metadata": {},
   "outputs": [],
   "source": [
    "airlines = pd.read_csv('airlines.csv' , low_memory=False)\n",
    "airports = pd.read_csv('airports.csv' , low_memory=False)\n",
    "flights = pd.read_csv('flights.csv' , low_memory=False)"
   ]
  },
  {
   "cell_type": "code",
   "execution_count": 85,
   "metadata": {},
   "outputs": [],
   "source": [
    "includedAirports = [\"ATL\",\"LAX\",\"ORD\",\"DFW\",\"JFK\",\"DEN\",\"SFO\",\"LAS\",\"CLT\",\"SEA\",\"PHX\",\"MIA\",\"MCO\",\n",
    "                    \"IAH\",\"EWR\",\"MSP\",\"BOS\",\"DTW\",\"PHL\",\"LGA\",\"FLL\",\"BWI\",\"DCA\",\"SLC\",\"MDW\"]\n",
    "flights = flights[flights['ORIGIN_AIRPORT'].isin(includedAirports)]\n",
    "flights = flights[flights['DESTINATION_AIRPORT'].isin(includedAirports)]\n",
    "airports = airports[airports.IATA_CODE.isin(includedAirports)]\n",
    "\n",
    "excludedAirlines = [\"VX\",\"MQ\",\"HA\",\"EV\",\"US\"]\n",
    "flights = flights[~flights['AIRLINE'].isin(excludedAirlines)]\n",
    "\n",
    "# flights['DATE'] = pd.to_datetime(flights[['YEAR','MONTH', 'DAY']])\n"
   ]
  },
  {
   "cell_type": "code",
   "execution_count": 86,
   "metadata": {},
   "outputs": [],
   "source": [
    "variables_to_remove = ['TAXI_OUT', 'TAXI_IN', 'WHEELS_ON', 'WHEELS_OFF', 'YEAR', 'TAIL_NUMBER']\n",
    "flights.drop(variables_to_remove, axis = 1, inplace = True)"
   ]
  },
  {
   "cell_type": "code",
   "execution_count": 87,
   "metadata": {},
   "outputs": [],
   "source": [
    "flights = pd.merge(flights, airlines, left_on='AIRLINE', right_on='IATA_CODE', how='left')\n",
    "flights.drop('IATA_CODE', axis=1, inplace=True)\n",
    "flights.rename(columns={'AIRLINE_x': 'AIRLINE_CODE','AIRLINE_y': 'AIRLINE'}, inplace=True)"
   ]
  },
  {
   "cell_type": "code",
   "execution_count": 92,
   "metadata": {},
   "outputs": [],
   "source": [
    "flights.describe()"
   ]
  },
  {
   "cell_type": "code",
   "execution_count": 89,
   "metadata": {},
   "outputs": [
    {
     "data": {
      "text/plain": [
       "MONTH                  False\n",
       "DAY                    False\n",
       "DAY_OF_WEEK            False\n",
       "AIRLINE_CODE            True\n",
       "FLIGHT_NUMBER          False\n",
       "ORIGIN_AIRPORT          True\n",
       "DESTINATION_AIRPORT     True\n",
       "SCHEDULED_DEPARTURE    False\n",
       "DEPARTURE_TIME         False\n",
       "DEPARTURE_DELAY        False\n",
       "SCHEDULED_TIME         False\n",
       "ELAPSED_TIME           False\n",
       "AIR_TIME               False\n",
       "DISTANCE               False\n",
       "SCHEDULED_ARRIVAL      False\n",
       "ARRIVAL_TIME           False\n",
       "ARRIVAL_DELAY          False\n",
       "DIVERTED               False\n",
       "CANCELLED              False\n",
       "CANCELLATION_REASON     True\n",
       "AIR_SYSTEM_DELAY       False\n",
       "SECURITY_DELAY         False\n",
       "AIRLINE_DELAY          False\n",
       "LATE_AIRCRAFT_DELAY    False\n",
       "WEATHER_DELAY          False\n",
       "AIRLINE                 True\n",
       "dtype: bool"
      ]
     },
     "execution_count": 89,
     "metadata": {},
     "output_type": "execute_result"
    }
   ],
   "source": [
    "flights.dtypes == object"
   ]
  },
  {
   "cell_type": "code",
   "execution_count": 90,
   "metadata": {},
   "outputs": [
    {
     "data": {
      "text/html": [
       "<div>\n",
       "<style scoped>\n",
       "    .dataframe tbody tr th:only-of-type {\n",
       "        vertical-align: middle;\n",
       "    }\n",
       "\n",
       "    .dataframe tbody tr th {\n",
       "        vertical-align: top;\n",
       "    }\n",
       "\n",
       "    .dataframe thead th {\n",
       "        text-align: right;\n",
       "    }\n",
       "</style>\n",
       "<table border=\"1\" class=\"dataframe\">\n",
       "  <thead>\n",
       "    <tr style=\"text-align: right;\">\n",
       "      <th></th>\n",
       "      <th>AIRLINE</th>\n",
       "      <th>flight_volume</th>\n",
       "      <th>flight_pcnt</th>\n",
       "      <th>cancellation_rate</th>\n",
       "      <th>divertion_rate</th>\n",
       "    </tr>\n",
       "  </thead>\n",
       "  <tbody>\n",
       "    <tr>\n",
       "      <th>0</th>\n",
       "      <td>Frontier Airlines Inc.</td>\n",
       "      <td>41375</td>\n",
       "      <td>0.026367</td>\n",
       "      <td>0.006042</td>\n",
       "      <td>0.002344</td>\n",
       "    </tr>\n",
       "    <tr>\n",
       "      <th>1</th>\n",
       "      <td>Alaska Airlines Inc.</td>\n",
       "      <td>44908</td>\n",
       "      <td>0.028619</td>\n",
       "      <td>0.002561</td>\n",
       "      <td>0.001536</td>\n",
       "    </tr>\n",
       "    <tr>\n",
       "      <th>2</th>\n",
       "      <td>Skywest Airlines Inc.</td>\n",
       "      <td>62929</td>\n",
       "      <td>0.040103</td>\n",
       "      <td>0.014890</td>\n",
       "      <td>0.002431</td>\n",
       "    </tr>\n",
       "    <tr>\n",
       "      <th>3</th>\n",
       "      <td>Spirit Air Lines</td>\n",
       "      <td>62990</td>\n",
       "      <td>0.040142</td>\n",
       "      <td>0.018177</td>\n",
       "      <td>0.001651</td>\n",
       "    </tr>\n",
       "    <tr>\n",
       "      <th>4</th>\n",
       "      <td>JetBlue Airways</td>\n",
       "      <td>97298</td>\n",
       "      <td>0.062006</td>\n",
       "      <td>0.017935</td>\n",
       "      <td>0.002631</td>\n",
       "    </tr>\n",
       "    <tr>\n",
       "      <th>5</th>\n",
       "      <td>Southwest Airlines Co.</td>\n",
       "      <td>231645</td>\n",
       "      <td>0.147622</td>\n",
       "      <td>0.018205</td>\n",
       "      <td>0.003626</td>\n",
       "    </tr>\n",
       "    <tr>\n",
       "      <th>6</th>\n",
       "      <td>United Air Lines Inc.</td>\n",
       "      <td>274050</td>\n",
       "      <td>0.174646</td>\n",
       "      <td>0.015088</td>\n",
       "      <td>0.002864</td>\n",
       "    </tr>\n",
       "    <tr>\n",
       "      <th>7</th>\n",
       "      <td>Delta Air Lines Inc.</td>\n",
       "      <td>367014</td>\n",
       "      <td>0.233890</td>\n",
       "      <td>0.006240</td>\n",
       "      <td>0.002289</td>\n",
       "    </tr>\n",
       "    <tr>\n",
       "      <th>8</th>\n",
       "      <td>American Airlines Inc.</td>\n",
       "      <td>386966</td>\n",
       "      <td>0.246605</td>\n",
       "      <td>0.015818</td>\n",
       "      <td>0.003036</td>\n",
       "    </tr>\n",
       "  </tbody>\n",
       "</table>\n",
       "</div>"
      ],
      "text/plain": [
       "                  AIRLINE  flight_volume  flight_pcnt  cancellation_rate  \\\n",
       "0  Frontier Airlines Inc.          41375     0.026367           0.006042   \n",
       "1    Alaska Airlines Inc.          44908     0.028619           0.002561   \n",
       "2   Skywest Airlines Inc.          62929     0.040103           0.014890   \n",
       "3        Spirit Air Lines          62990     0.040142           0.018177   \n",
       "4         JetBlue Airways          97298     0.062006           0.017935   \n",
       "5  Southwest Airlines Co.         231645     0.147622           0.018205   \n",
       "6   United Air Lines Inc.         274050     0.174646           0.015088   \n",
       "7    Delta Air Lines Inc.         367014     0.233890           0.006240   \n",
       "8  American Airlines Inc.         386966     0.246605           0.015818   \n",
       "\n",
       "   divertion_rate  \n",
       "0        0.002344  \n",
       "1        0.001536  \n",
       "2        0.002431  \n",
       "3        0.001651  \n",
       "4        0.002631  \n",
       "5        0.003626  \n",
       "6        0.002864  \n",
       "7        0.002289  \n",
       "8        0.003036  "
      ]
     },
     "execution_count": 90,
     "metadata": {},
     "output_type": "execute_result"
    }
   ],
   "source": [
    "airline_rank_v01 = pd.DataFrame({'flight_volume' : flights.groupby(['AIRLINE'])['AIRLINE'].count()}).reset_index()\n",
    "airline_rank_v01.sort_values(\"flight_volume\", ascending=True, inplace=True)\n",
    "\n",
    "flight_volume_total = airline_rank_v01['flight_volume'].sum()\n",
    "\n",
    "airline_rank_v01['flight_pcnt'] = airline_rank_v01['flight_volume']/flight_volume_total\n",
    "\n",
    "airline_rank_v02 = pd.DataFrame({'cancellation_rate' : flights.groupby(['AIRLINE'])['CANCELLED'].mean()}).reset_index()\n",
    "airline_rank_v02.sort_values(\"cancellation_rate\", ascending=False, inplace=True)\n",
    "airline_rank_v03 = pd.DataFrame({'divertion_rate' : flights.groupby(['AIRLINE'])['DIVERTED'].mean()}).reset_index()\n",
    "airline_rank_v03.sort_values(\"divertion_rate\", ascending=False, inplace=True)\n",
    "airline_rank_v1 = pd.merge(airline_rank_v01, airline_rank_v02, left_on='AIRLINE', right_on='AIRLINE', how='left')\n",
    "airline_rank_v1 = pd.merge(airline_rank_v1, airline_rank_v03, left_on='AIRLINE', right_on='AIRLINE', how='left')\n",
    "airline_rank_v1"
   ]
  },
  {
   "cell_type": "code",
   "execution_count": 78,
   "metadata": {},
   "outputs": [],
   "source": [
    "mpl.rcParams.update(mpl.rcParamsDefault)\n",
    "mpl.rcParams['hatch.linewidth'] = 2.0  \n",
    "\n",
    "fig = plt.figure(1, figsize=(11,6))\n",
    "ax = sns.barplot(x=\"DEPARTURE_DELAY\", y=\"AIRLINE\", data=flights, color=\"lightskyblue\", ci=None)\n",
    "ax = sns.barplot(x=\"ARRIVAL_DELAY\", y=\"AIRLINE\", data=flights, color=\"r\", hatch = '///',\n",
    "                 alpha = 0.0, ci=None)\n",
    "ax.yaxis.label.set_visible(False)\n",
    "plt.xlabel('Mean delay [min] (@departure: blue, @arrival: hatch lines)',\n",
    "           fontsize=14, weight = 'bold', labelpad=10);"
   ]
  },
  {
   "cell_type": "code",
   "execution_count": 79,
   "metadata": {},
   "outputs": [],
   "source": [
    "flights_totals_month = pd.DataFrame({'total_flights_month' : flights.groupby(['MONTH'])['AIRLINE'].count()}).reset_index()\n",
    "flights_totals_month.sort_values(\"MONTH\", ascending=True, inplace=True)\n",
    "flights_cancelled_month = pd.DataFrame({'total_cancellations_month' : flights.groupby(['MONTH'])['CANCELLED'].sum()}).reset_index()\n",
    "flights_cancelled_month.sort_values(\"MONTH\", ascending=True, inplace=True)"
   ]
  },
  {
   "cell_type": "code",
   "execution_count": 80,
   "metadata": {},
   "outputs": [],
   "source": [
    "flights = pd.get_dummies(flights, columns=['AIRLINE','AIRLINE_CODE','ORIGIN_AIRPORT', 'DESTINATION_AIRPORT'])\n",
    "# le = preprocessing.LabelEncoder()\n",
    "# le.fit(flights[\"AIRLINE\"])\n",
    "# flights[\"AIRLINE\"] = le.transform(flights[\"AIRLINE\"])\n",
    "# flights[\"CANCELLATION_REASON\"] = le.fit_transform(flights[\"CANCELLATION_REASON\"])\n",
    "# flights[\"AIR_SYSTEM_DELAY\"] = le.fit_transform(flights[\"AIR_SYSTEM_DELAY\"])\n",
    "# flights[\"SECURITY_DELAY\"] = le.fit_transform(flights[\"SECURITY_DELAY\"])\n",
    "# flights[\"AIRLINE_DELAY\"] = le.fit_transform(flights[\"AIRLINE_DELAY\"])\n",
    "# flights[\"LATE_AIRCRAFT_DELAY\"] = le.fit_transform(flights[\"LATE_AIRCRAFT_DELAY\"])\n",
    "# flights[\"WEATHER_DELAY\"] = le.fit_transform(flights[\"WEATHER_DELAY\"])\n",
    "# flights[\"DESTINATION_AIRPORT\"] = le.fit_transform(flights[\"DESTINATION_AIRPORT\"])\n",
    "# flights[\"ORIGIN_AIRPORT\"] = le.fit_transform(flights[\"ORIGIN_AIRPORT\"])\n",
    "# flights[\"TAIL_NUMBER\"] = le.fit_transform(flights[\"TAIL_NUMBER\"])"
   ]
  },
  {
   "cell_type": "code",
   "execution_count": 81,
   "metadata": {},
   "outputs": [
    {
     "name": "stdout",
     "output_type": "stream",
     "text": [
      "Training Features Shape: (1255340, 89)\n",
      "Training Labels Shape: (1255340,)\n",
      "Testing Features Shape: (313835, 89)\n",
      "Testing Labels Shape: (313835,)\n"
     ]
    }
   ],
   "source": [
    "# Labels are the values we want to predict\n",
    "labels = np.array(flights[\"ARRIVAL_DELAY\"])\n",
    "# Remove the labels from the features\n",
    "# axis 1 refers to the columns\n",
    "features = flights.drop('ARRIVAL_DELAY', axis = 1)\n",
    "features = flights.drop('CANCELLATION_REASON', axis = 1)\n",
    "features = flights.drop('CANCELLATION_REASON', axis = 1)\n",
    "\n",
    "\n",
    "# Saving feature names for later use\n",
    "feature_list = list(features.columns)\n",
    "# Convert to numpy array\n",
    "features = np.array(features)\n",
    "\n",
    "\n",
    "X_train, X_test, y_train, y_test = train_test_split(features, labels, test_size=0.20, random_state = 1313)\n",
    "print('Training Features Shape:', X_train.shape)\n",
    "print('Training Labels Shape:', y_train.shape)\n",
    "print('Testing Features Shape:', X_test.shape)\n",
    "print('Testing Labels Shape:', y_test.shape)"
   ]
  },
  {
   "cell_type": "code",
   "execution_count": 82,
   "metadata": {},
   "outputs": [
    {
     "ename": "ValueError",
     "evalue": "Input contains NaN, infinity or a value too large for dtype('float32').",
     "output_type": "error",
     "traceback": [
      "\u001b[1;31m---------------------------------------------------------------------------\u001b[0m",
      "\u001b[1;31mValueError\u001b[0m                                Traceback (most recent call last)",
      "\u001b[1;32m<ipython-input-82-dff6ffa29b1e>\u001b[0m in \u001b[0;36m<module>\u001b[1;34m()\u001b[0m\n\u001b[0;32m      2\u001b[0m \u001b[0mrf\u001b[0m \u001b[1;33m=\u001b[0m \u001b[0mRandomForestRegressor\u001b[0m\u001b[1;33m(\u001b[0m\u001b[0mn_estimators\u001b[0m \u001b[1;33m=\u001b[0m \u001b[1;36m1000\u001b[0m\u001b[1;33m,\u001b[0m \u001b[0mrandom_state\u001b[0m \u001b[1;33m=\u001b[0m \u001b[1;36m1313\u001b[0m\u001b[1;33m)\u001b[0m\u001b[1;33m\u001b[0m\u001b[0m\n\u001b[0;32m      3\u001b[0m \u001b[1;31m# Train the model on training data\u001b[0m\u001b[1;33m\u001b[0m\u001b[1;33m\u001b[0m\u001b[0m\n\u001b[1;32m----> 4\u001b[1;33m \u001b[0mrf\u001b[0m\u001b[1;33m.\u001b[0m\u001b[0mfit\u001b[0m\u001b[1;33m(\u001b[0m\u001b[0mX_train\u001b[0m\u001b[1;33m,\u001b[0m \u001b[0my_train\u001b[0m\u001b[1;33m)\u001b[0m\u001b[1;33m;\u001b[0m\u001b[1;33m\u001b[0m\u001b[0m\n\u001b[0m",
      "\u001b[1;32m~\\Anaconda3\\lib\\site-packages\\sklearn\\ensemble\\forest.py\u001b[0m in \u001b[0;36mfit\u001b[1;34m(self, X, y, sample_weight)\u001b[0m\n\u001b[0;32m    245\u001b[0m         \"\"\"\n\u001b[0;32m    246\u001b[0m         \u001b[1;31m# Validate or convert input data\u001b[0m\u001b[1;33m\u001b[0m\u001b[1;33m\u001b[0m\u001b[0m\n\u001b[1;32m--> 247\u001b[1;33m         \u001b[0mX\u001b[0m \u001b[1;33m=\u001b[0m \u001b[0mcheck_array\u001b[0m\u001b[1;33m(\u001b[0m\u001b[0mX\u001b[0m\u001b[1;33m,\u001b[0m \u001b[0maccept_sparse\u001b[0m\u001b[1;33m=\u001b[0m\u001b[1;34m\"csc\"\u001b[0m\u001b[1;33m,\u001b[0m \u001b[0mdtype\u001b[0m\u001b[1;33m=\u001b[0m\u001b[0mDTYPE\u001b[0m\u001b[1;33m)\u001b[0m\u001b[1;33m\u001b[0m\u001b[0m\n\u001b[0m\u001b[0;32m    248\u001b[0m         \u001b[0my\u001b[0m \u001b[1;33m=\u001b[0m \u001b[0mcheck_array\u001b[0m\u001b[1;33m(\u001b[0m\u001b[0my\u001b[0m\u001b[1;33m,\u001b[0m \u001b[0maccept_sparse\u001b[0m\u001b[1;33m=\u001b[0m\u001b[1;34m'csc'\u001b[0m\u001b[1;33m,\u001b[0m \u001b[0mensure_2d\u001b[0m\u001b[1;33m=\u001b[0m\u001b[1;32mFalse\u001b[0m\u001b[1;33m,\u001b[0m \u001b[0mdtype\u001b[0m\u001b[1;33m=\u001b[0m\u001b[1;32mNone\u001b[0m\u001b[1;33m)\u001b[0m\u001b[1;33m\u001b[0m\u001b[0m\n\u001b[0;32m    249\u001b[0m         \u001b[1;32mif\u001b[0m \u001b[0msample_weight\u001b[0m \u001b[1;32mis\u001b[0m \u001b[1;32mnot\u001b[0m \u001b[1;32mNone\u001b[0m\u001b[1;33m:\u001b[0m\u001b[1;33m\u001b[0m\u001b[0m\n",
      "\u001b[1;32m~\\Anaconda3\\lib\\site-packages\\sklearn\\utils\\validation.py\u001b[0m in \u001b[0;36mcheck_array\u001b[1;34m(array, accept_sparse, dtype, order, copy, force_all_finite, ensure_2d, allow_nd, ensure_min_samples, ensure_min_features, warn_on_dtype, estimator)\u001b[0m\n\u001b[0;32m    451\u001b[0m                              % (array.ndim, estimator_name))\n\u001b[0;32m    452\u001b[0m         \u001b[1;32mif\u001b[0m \u001b[0mforce_all_finite\u001b[0m\u001b[1;33m:\u001b[0m\u001b[1;33m\u001b[0m\u001b[0m\n\u001b[1;32m--> 453\u001b[1;33m             \u001b[0m_assert_all_finite\u001b[0m\u001b[1;33m(\u001b[0m\u001b[0marray\u001b[0m\u001b[1;33m)\u001b[0m\u001b[1;33m\u001b[0m\u001b[0m\n\u001b[0m\u001b[0;32m    454\u001b[0m \u001b[1;33m\u001b[0m\u001b[0m\n\u001b[0;32m    455\u001b[0m     \u001b[0mshape_repr\u001b[0m \u001b[1;33m=\u001b[0m \u001b[0m_shape_repr\u001b[0m\u001b[1;33m(\u001b[0m\u001b[0marray\u001b[0m\u001b[1;33m.\u001b[0m\u001b[0mshape\u001b[0m\u001b[1;33m)\u001b[0m\u001b[1;33m\u001b[0m\u001b[0m\n",
      "\u001b[1;32m~\\Anaconda3\\lib\\site-packages\\sklearn\\utils\\validation.py\u001b[0m in \u001b[0;36m_assert_all_finite\u001b[1;34m(X)\u001b[0m\n\u001b[0;32m     42\u001b[0m             and not np.isfinite(X).all()):\n\u001b[0;32m     43\u001b[0m         raise ValueError(\"Input contains NaN, infinity\"\n\u001b[1;32m---> 44\u001b[1;33m                          \" or a value too large for %r.\" % X.dtype)\n\u001b[0m\u001b[0;32m     45\u001b[0m \u001b[1;33m\u001b[0m\u001b[0m\n\u001b[0;32m     46\u001b[0m \u001b[1;33m\u001b[0m\u001b[0m\n",
      "\u001b[1;31mValueError\u001b[0m: Input contains NaN, infinity or a value too large for dtype('float32')."
     ]
    }
   ],
   "source": [
    "# Instantiate model with 1000 decision trees\n",
    "rf = RandomForestRegressor(n_estimators = 1000, random_state = 1313)\n",
    "# Train the model on training data\n",
    "rf.fit(X_train, y_train);"
   ]
  },
  {
   "cell_type": "code",
   "execution_count": null,
   "metadata": {},
   "outputs": [],
   "source": [
    "flights.dtypes == 'object'"
   ]
  },
  {
   "cell_type": "code",
   "execution_count": null,
   "metadata": {},
   "outputs": [],
   "source": []
  },
  {
   "cell_type": "code",
   "execution_count": null,
   "metadata": {},
   "outputs": [],
   "source": []
  }
 ],
 "metadata": {
  "kernelspec": {
   "display_name": "Python 3",
   "language": "python",
   "name": "python3"
  },
  "language_info": {
   "codemirror_mode": {
    "name": "ipython",
    "version": 3
   },
   "file_extension": ".py",
   "mimetype": "text/x-python",
   "name": "python",
   "nbconvert_exporter": "python",
   "pygments_lexer": "ipython3",
   "version": "3.6.4"
  }
 },
 "nbformat": 4,
 "nbformat_minor": 2
}
