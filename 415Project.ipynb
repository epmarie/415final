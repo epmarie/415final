{
 "cells": [
  {
   "cell_type": "markdown",
   "metadata": {},
   "source": [
    "All the packages that will be used on this dataset are imported."
   ]
  },
  {
   "cell_type": "code",
   "execution_count": 1,
   "metadata": {},
   "outputs": [
    {
     "name": "stderr",
     "output_type": "stream",
     "text": [
      "C:\\Users\\musicalmichi\\Anaconda3\\lib\\site-packages\\sklearn\\cross_validation.py:41: DeprecationWarning: This module was deprecated in version 0.18 in favor of the model_selection module into which all the refactored classes and functions are moved. Also note that the interface of the new CV iterators are different from that of this module. This module will be removed in 0.20.\n",
      "  \"This module will be removed in 0.20.\", DeprecationWarning)\n"
     ]
    }
   ],
   "source": [
    "import pandas as pd\n",
    "import numpy as np\n",
    "import sklearn as skl\n",
    "import matplotlib as plt\n",
    "import scipy as sp\n",
    "import seaborn as sbs\n",
    "from sklearn.linear_model import Lasso\n",
    "from sklearn.cross_validation import train_test_split\n",
    "import random\n",
    "import datetime"
   ]
  },
  {
   "cell_type": "markdown",
   "metadata": {},
   "source": [
    "# Cleaning"
   ]
  },
  {
   "cell_type": "markdown",
   "metadata": {},
   "source": [
    "The data we are using comes from three files: airlines.csv, airports.csv, and flights.csv. The file airlines.csv identifies each airline in the dataset with a two-letter acronym corresponding to the airline variable in flights.csv. The file airports.csv includes information on each airport referenced in flights.csv, including the airport name and the airport's location. Flights.csv is the main dataset we will be using. It contains 31 variables and has 5,819,079 entries with data about all the flights in 2015. The data files were obtained from __[Kaggle](https://www.kaggle.com/usdot/flight-delays/data)__."
   ]
  },
  {
   "cell_type": "code",
   "execution_count": 2,
   "metadata": {
    "collapsed": true
   },
   "outputs": [],
   "source": [
    "airlines = pd.read_csv('airlines.csv' , low_memory=False)\n",
    "airports = pd.read_csv('airports.csv' , low_memory=False)\n",
    "flights = pd.read_csv('flights.csv' , low_memory=False)"
   ]
  },
  {
   "cell_type": "markdown",
   "metadata": {},
   "source": [
    "We have decided to use only a subset of the data from the flights dataset, because of the large number of entries. We will be focusing on the following airlines: United Air Lines Inc., American Airlines Inc., Frontier Airlines Inc., JetBlue Airways, Skywest Airlines Inc. Alaska Airlines Inc., Spirit Air Lines, Southwest Airlines Co., and Delta Air Lines Inc."
   ]
  },
  {
   "cell_type": "markdown",
   "metadata": {},
   "source": [
    "The three date variables YEAR, MONTH, and DAY from the flights dataset are consolidated into a single datetime variable, DATE."
   ]
  },
  {
   "cell_type": "code",
   "execution_count": 3,
   "metadata": {
    "collapsed": true
   },
   "outputs": [],
   "source": [
    "excludedAirlines = [\"VX\",\"MQ\",\"HA\",\"EV\",\"US\"]\n",
    "flights = flights[~flights['AIRLINE'].isin(excludedAirlines)]\n",
    "\n",
    "flights['DATE'] = pd.to_datetime(flights[['YEAR','MONTH', 'DAY']])"
   ]
  },
  {
   "cell_type": "markdown",
   "metadata": {},
   "source": [
    "The function format_hour(), defined below, converts a string to a datetime variable, which is much more convenient to work with."
   ]
  },
  {
   "cell_type": "code",
   "execution_count": 4,
   "metadata": {
    "collapsed": true
   },
   "outputs": [],
   "source": [
    "# Function that converts the 'HHMM' string to datetime.time\n",
    "def format_hour(nums):\n",
    "    if pd.isnull(nums):\n",
    "        return np.nan\n",
    "    else:\n",
    "        if nums == 2400: nums = 0\n",
    "        nums = \"{0:04d}\".format(int(nums))\n",
    "        hour = datetime.time(int(nums[0:2]), int(nums[2:4]))\n",
    "        return hour"
   ]
  },
  {
   "cell_type": "markdown",
   "metadata": {},
   "source": [
    "The function format_hour() is called on by three time variables in the flights dataset: DEPARTURE_TIME, SCHEDULED_ARRIVAL, and ARRIVAL_TIME. Now the date and time variables are all datetime objects."
   ]
  },
  {
   "cell_type": "code",
   "execution_count": 5,
   "metadata": {},
   "outputs": [
    {
     "data": {
      "text/html": [
       "<div>\n",
       "<style>\n",
       "    .dataframe thead tr:only-child th {\n",
       "        text-align: right;\n",
       "    }\n",
       "\n",
       "    .dataframe thead th {\n",
       "        text-align: left;\n",
       "    }\n",
       "\n",
       "    .dataframe tbody tr th {\n",
       "        vertical-align: top;\n",
       "    }\n",
       "</style>\n",
       "<table border=\"1\" class=\"dataframe\">\n",
       "  <thead>\n",
       "    <tr style=\"text-align: right;\">\n",
       "      <th></th>\n",
       "      <th>SCHEDULED_DEPARTURE</th>\n",
       "      <th>SCHEDULED_ARRIVAL</th>\n",
       "      <th>DEPARTURE_TIME</th>\n",
       "      <th>ARRIVAL_TIME</th>\n",
       "      <th>DEPARTURE_DELAY</th>\n",
       "      <th>ARRIVAL_DELAY</th>\n",
       "    </tr>\n",
       "  </thead>\n",
       "  <tbody>\n",
       "    <tr>\n",
       "      <th>0</th>\n",
       "      <td>5</td>\n",
       "      <td>04:30:00</td>\n",
       "      <td>23:54:00</td>\n",
       "      <td>04:08:00</td>\n",
       "      <td>-11.0</td>\n",
       "      <td>-22.0</td>\n",
       "    </tr>\n",
       "    <tr>\n",
       "      <th>1</th>\n",
       "      <td>10</td>\n",
       "      <td>07:50:00</td>\n",
       "      <td>00:02:00</td>\n",
       "      <td>07:41:00</td>\n",
       "      <td>-8.0</td>\n",
       "      <td>-9.0</td>\n",
       "    </tr>\n",
       "    <tr>\n",
       "      <th>3</th>\n",
       "      <td>20</td>\n",
       "      <td>08:05:00</td>\n",
       "      <td>00:15:00</td>\n",
       "      <td>07:56:00</td>\n",
       "      <td>-5.0</td>\n",
       "      <td>-9.0</td>\n",
       "    </tr>\n",
       "    <tr>\n",
       "      <th>4</th>\n",
       "      <td>25</td>\n",
       "      <td>03:20:00</td>\n",
       "      <td>00:24:00</td>\n",
       "      <td>02:59:00</td>\n",
       "      <td>-1.0</td>\n",
       "      <td>-21.0</td>\n",
       "    </tr>\n",
       "    <tr>\n",
       "      <th>5</th>\n",
       "      <td>25</td>\n",
       "      <td>06:02:00</td>\n",
       "      <td>00:20:00</td>\n",
       "      <td>06:10:00</td>\n",
       "      <td>-5.0</td>\n",
       "      <td>8.0</td>\n",
       "    </tr>\n",
       "  </tbody>\n",
       "</table>\n",
       "</div>"
      ],
      "text/plain": [
       "   SCHEDULED_DEPARTURE SCHEDULED_ARRIVAL DEPARTURE_TIME ARRIVAL_TIME  \\\n",
       "0                    5          04:30:00       23:54:00     04:08:00   \n",
       "1                   10          07:50:00       00:02:00     07:41:00   \n",
       "3                   20          08:05:00       00:15:00     07:56:00   \n",
       "4                   25          03:20:00       00:24:00     02:59:00   \n",
       "5                   25          06:02:00       00:20:00     06:10:00   \n",
       "\n",
       "   DEPARTURE_DELAY  ARRIVAL_DELAY  \n",
       "0            -11.0          -22.0  \n",
       "1             -8.0           -9.0  \n",
       "3             -5.0           -9.0  \n",
       "4             -1.0          -21.0  \n",
       "5             -5.0            8.0  "
      ]
     },
     "execution_count": 5,
     "metadata": {},
     "output_type": "execute_result"
    }
   ],
   "source": [
    "flights['DEPARTURE_TIME'] = flights['DEPARTURE_TIME'].apply(format_hour)\n",
    "flights['SCHEDULED_ARRIVAL'] = flights['SCHEDULED_ARRIVAL'].apply(format_hour)\n",
    "flights['ARRIVAL_TIME'] = flights['ARRIVAL_TIME'].apply(format_hour)\n",
    "\n",
    "flights.loc[:5, ['SCHEDULED_DEPARTURE', 'SCHEDULED_ARRIVAL', 'DEPARTURE_TIME',\n",
    "             'ARRIVAL_TIME', 'DEPARTURE_DELAY', 'ARRIVAL_DELAY']]"
   ]
  },
  {
   "cell_type": "markdown",
   "metadata": {},
   "source": [
    "The YEAR, MONTH, and DAY variables are removed form the flights dataset as they are no longer needed due to the new DATE variable. The following variables are also removed from the flights dataset because they do not provide any information that would help answer our questions of interest: TAXI_OUT, TAXI_IN, WHEELS_ON, WHEELS_OFF, and DIVERTED."
   ]
  },
  {
   "cell_type": "code",
   "execution_count": 6,
   "metadata": {
    "collapsed": true
   },
   "outputs": [],
   "source": [
    "variables_to_remove = ['TAXI_OUT', 'TAXI_IN', 'WHEELS_ON', 'WHEELS_OFF', 'YEAR', \n",
    "                       'MONTH','DAY', 'DIVERTED']\n",
    "flights.drop(variables_to_remove, axis = 1, inplace = True)"
   ]
  },
  {
   "cell_type": "markdown",
   "metadata": {},
   "source": [
    "The flights data is split into training and test data. We have set a random seed to ensure reproducibility."
   ]
  },
  {
   "cell_type": "code",
   "execution_count": 7,
   "metadata": {
    "collapsed": true
   },
   "outputs": [],
   "source": [
    "random.seed(1313)\n",
    "train_flights, test_flights = train_test_split(flights,test_size=0.2)"
   ]
  },
  {
   "cell_type": "code",
   "execution_count": null,
   "metadata": {
    "collapsed": true
   },
   "outputs": [],
   "source": []
  }
 ],
 "metadata": {
  "kernelspec": {
   "display_name": "Python 3",
   "language": "python",
   "name": "python3"
  },
  "language_info": {
   "codemirror_mode": {
    "name": "ipython",
    "version": 3
   },
   "file_extension": ".py",
   "mimetype": "text/x-python",
   "name": "python",
   "nbconvert_exporter": "python",
   "pygments_lexer": "ipython3",
   "version": "3.6.3"
  }
 },
 "nbformat": 4,
 "nbformat_minor": 2
}
