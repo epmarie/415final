{
 "cells": [
  {
   "cell_type": "markdown",
   "metadata": {},
   "source": [
    "All the packages that will be used on this dataset are imported."
   ]
  },
  {
   "cell_type": "code",
   "execution_count": 24,
   "metadata": {},
   "outputs": [],
   "source": [
    "import pandas as pd\n",
    "import numpy as np\n",
    "import sklearn as skl\n",
    "import matplotlib.pyplot as plt\n",
    "import scipy as sp\n",
    "import seaborn as sns\n",
    "from sklearn.linear_model import Lasso\n",
    "from sklearn.model_selection import train_test_split\n",
    "import random\n",
    "import datetime\n",
    "%matplotlib inline"
   ]
  },
  {
   "cell_type": "markdown",
   "metadata": {},
   "source": [
    "# Cleaning"
   ]
  },
  {
   "cell_type": "markdown",
   "metadata": {},
   "source": [
    "The data we are using comes from three files: airlines.csv, airports.csv, and flights.csv. The file airlines.csv identifies each airline in the dataset with a two-letter acronym corresponding to the airline variable in flights.csv. The file airports.csv includes information on each airport referenced in flights.csv, including the airport name and the airport's location. Flights.csv is the main dataset we will be using. It contains 31 variables and has 5,819,079 entries with data about all the flights in 2015. The data files were obtained from __[Kaggle](https://www.kaggle.com/usdot/flight-delays/data)__."
   ]
  },
  {
   "cell_type": "code",
   "execution_count": 88,
   "metadata": {
    "collapsed": true
   },
   "outputs": [],
   "source": [
    "airlines = pd.read_csv('airlines.csv' , low_memory=False)\n",
    "airports = pd.read_csv('airports.csv' , low_memory=False)\n",
    "flights = pd.read_csv('flights.csv' , low_memory=False)"
   ]
  },
  {
   "cell_type": "markdown",
   "metadata": {},
   "source": [
    "We have decided to use only a subset of the data from the flights dataset, because of the large number of entries. We will be focusing on the following airlines: United Air Lines Inc., American Airlines Inc., Frontier Airlines Inc., JetBlue Airways, Skywest Airlines Inc. Alaska Airlines Inc., Spirit Air Lines, Southwest Airlines Co., and Delta Air Lines Inc."
   ]
  },
  {
   "cell_type": "markdown",
   "metadata": {},
   "source": [
    "The three date variables YEAR, MONTH, and DAY from the flights dataset are consolidated into a single datetime variable, DATE."
   ]
  },
  {
   "cell_type": "code",
   "execution_count": 89,
   "metadata": {
    "collapsed": true
   },
   "outputs": [],
   "source": [
    "includedAirports = [\"ATL\",\"LAX\",\"ORD\",\"DFW\",\"JFK\",\"DEN\",\"SFO\",\"LAS\",\"CLT\",\"SEA\",\"PHX\",\"MIA\",\"MCO\",\n",
    "                    \"IAH\",\"EWR\",\"MSP\",\"BOS\",\"DTW\",\"PHL\",\"LGA\",\"FLL\",\"BWI\",\"DCA\",\"SLC\",\"MDW\"]\n",
    "flights = flights[flights['ORIGIN_AIRPORT'].isin(includedAirports)]\n",
    "flights = flights[flights['DESTINATION_AIRPORT'].isin(includedAirports)]"
   ]
  },
  {
   "cell_type": "code",
   "execution_count": 90,
   "metadata": {
    "collapsed": true
   },
   "outputs": [],
   "source": [
    "excludedAirlines = [\"VX\",\"MQ\",\"HA\",\"EV\",\"US\"]\n",
    "flights = flights[~flights['AIRLINE'].isin(excludedAirlines)]\n",
    "\n",
    "flights['DATE'] = pd.to_datetime(flights[['YEAR','MONTH', 'DAY']])"
   ]
  },
  {
   "cell_type": "code",
   "execution_count": 96,
   "metadata": {},
   "outputs": [],
   "source": [
    "airports = airports[airports.IATA_CODE.isin(includedAirports)]"
   ]
  },
  {
   "cell_type": "code",
   "execution_count": 99,
   "metadata": {},
   "outputs": [],
   "source": [
    "airlines = airlines[~airlines.IATA_CODE.isin(excludedAirlines)]"
   ]
  },
  {
   "cell_type": "code",
   "execution_count": 91,
   "metadata": {
    "collapsed": true
   },
   "outputs": [],
   "source": [
    "variables_to_remove = ['TAXI_OUT', 'TAXI_IN', 'WHEELS_ON', 'WHEELS_OFF', 'YEAR', \n",
    "                       'TAIL_NUMBER', 'FLIGHT_NUMBER']\n",
    "flights.drop(variables_to_remove, axis = 1, inplace = True)"
   ]
  },
  {
   "cell_type": "code",
   "execution_count": 100,
   "metadata": {
    "collapsed": true
   },
   "outputs": [],
   "source": [
    "random.seed(1313)\n",
    "train_flights, test_flights = train_test_split(flights,test_size=0.2)"
   ]
  },
  {
   "cell_type": "code",
   "execution_count": 102,
   "metadata": {
    "collapsed": true
   },
   "outputs": [],
   "source": [
    "train_flights.to_csv('train_flights.csv', sep='\\t')\n",
    "test_flights.to_csv('test_flights.csv', sep='\\t')\n",
    "airlines.to_csv('cln_airlines.csv', sep='\\t')\n",
    "airports.to_csv('cln_airports.csv', sep='\\t')"
   ]
  },
  {
   "cell_type": "markdown",
   "metadata": {},
   "source": [
    "The function format_hour(), defined below, converts a string to a datetime variable, which is much more convenient to work with."
   ]
  },
  {
   "cell_type": "markdown",
   "metadata": {
    "collapsed": true
   },
   "source": [
    "# Function that converts the 'HHMM' string to datetime.time\n",
    "def format_hour(nums):\n",
    "    if pd.isnull(nums):\n",
    "        return np.nan\n",
    "    else:\n",
    "        if nums == 2400: nums = 0\n",
    "        nums = \"{0:04d}\".format(int(nums))\n",
    "        hour = datetime.time(int(nums[0:2]), int(nums[2:4]))\n",
    "        return hour"
   ]
  },
  {
   "cell_type": "markdown",
   "metadata": {},
   "source": [
    "The function format_hour() is called on by three time variables in the flights dataset: DEPARTURE_TIME, SCHEDULED_ARRIVAL, and ARRIVAL_TIME. Now the date and time variables are all datetime objects."
   ]
  },
  {
   "cell_type": "markdown",
   "metadata": {},
   "source": [
    "flights['DEPARTURE_TIME'] = flights['DEPARTURE_TIME'].apply(format_hour)\n",
    "flights['SCHEDULED_ARRIVAL'] = flights['SCHEDULED_ARRIVAL'].apply(format_hour)\n",
    "flights['ARRIVAL_TIME'] = flights['ARRIVAL_TIME'].apply(format_hour)\n",
    "\n",
    "flights.loc[:5, ['SCHEDULED_DEPARTURE', 'SCHEDULED_ARRIVAL', 'DEPARTURE_TIME',\n",
    "             'ARRIVAL_TIME', 'DEPARTURE_DELAY', 'ARRIVAL_DELAY']]"
   ]
  },
  {
   "cell_type": "markdown",
   "metadata": {},
   "source": [
    "The YEAR, MONTH, and DAY variables are removed form the flights dataset as they are no longer needed due to the new DATE variable. The following variables are also removed from the flights dataset because they do not provide any information that would help answer our questions of interest: TAXI_OUT, TAXI_IN, WHEELS_ON, WHEELS_OFF, and DIVERTED."
   ]
  },
  {
   "cell_type": "markdown",
   "metadata": {},
   "source": [
    "The flights data is split into training and test data. We have set a random seed to ensure reproducibility."
   ]
  },
  {
   "cell_type": "code",
   "execution_count": 92,
   "metadata": {},
   "outputs": [
    {
     "data": {
      "text/plain": [
       "[<matplotlib.lines.Line2D at 0x1d600b167f0>]"
      ]
     },
     "execution_count": 92,
     "metadata": {},
     "output_type": "execute_result"
    },
    {
     "data": {
      "image/png": "[encoded data removed]",
      "text/plain": [
       "<matplotlib.figure.Figure at 0x1d6e8e3c240>"
      ]
     },
     "metadata": {},
     "output_type": "display_data"
    }
   ],
   "source": [
    "sns.set()\n",
    "plt.plot(flights.DEPARTURE_DELAY, flights.ARRIVAL_DELAY)\n",
    "#sns.heatmap(flights)"
   ]
  },
  {
   "cell_type": "code",
   "execution_count": 93,
   "metadata": {},
   "outputs": [
    {
     "data": {
      "text/plain": [
       "(0, 2000)"
      ]
     },
     "execution_count": 93,
     "metadata": {},
     "output_type": "execute_result"
    },
    {
     "data": {
      "image/png": "[encoded data removed]",
      "text/plain": [
       "<matplotlib.figure.Figure at 0x1d600b22710>"
      ]
     },
     "metadata": {},
     "output_type": "display_data"
    }
   ],
   "source": [
    "sns.set_palette('husl')\n",
    "#plt.hist(flights[flights.CANCELLED == 1].DAY_OF_WEEK, bins=[1,2,3,4,5,6,7])\n",
    "plt.plot(flights[~np.isnan(flights.DEPARTURE_DELAY)].DATE, flights[~np.isnan(flights.DEPARTURE_DELAY)].DEPARTURE_DELAY)\n",
    "plt.ylim((0,2000))"
   ]
  }
 ],
 "metadata": {
  "kernelspec": {
   "display_name": "Python 3",
   "language": "python",
   "name": "python3"
  },
  "language_info": {
   "codemirror_mode": {
    "name": "ipython",
    "version": 3
   },
   "file_extension": ".py",
   "mimetype": "text/x-python",
   "name": "python",
   "nbconvert_exporter": "python",
   "pygments_lexer": "ipython3",
   "version": "3.6.2"
  }
 },
 "nbformat": 4,
 "nbformat_minor": 2
}
